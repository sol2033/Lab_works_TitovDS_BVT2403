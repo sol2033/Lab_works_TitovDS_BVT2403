{
  "nbformat": 4,
  "nbformat_minor": 0,
  "metadata": {
    "colab": {
      "provenance": []
    },
    "kernelspec": {
      "name": "python3",
      "display_name": "Python 3"
    },
    "language_info": {
      "name": "python"
    }
  },
  "cells": [
    {
      "cell_type": "code",
      "execution_count": 54,
      "metadata": {
        "colab": {
          "base_uri": "https://localhost:8080/"
        },
        "id": "4NMPvv-3qiSF",
        "outputId": "51f8880b-1b5c-4a3a-a20b-bb41ffdebb34"
      },
      "outputs": [
        {
          "output_type": "stream",
          "name": "stdout",
          "text": [
            "1 - изменение пароля \n",
            "2 - проверка введененного пароля на корректность \n",
            "2\n",
            "Введите пароль: 65342432\n",
            "False\n"
          ]
        }
      ],
      "source": [
        "class UserAccount():\n",
        "\n",
        "  def __init__(self,username,email,password):\n",
        "    self.username = username\n",
        "    self.email = email\n",
        "    self.__password = password\n",
        "\n",
        "  def get_password(self):\n",
        "    return self.__password\n",
        "\n",
        "  def set_password(self,new_password):\n",
        "    self.__password = new_password\n",
        "\n",
        "  def check_password(self,password):\n",
        "    if password == self.__password:\n",
        "      return True\n",
        "    return False\n",
        "\n",
        "acc_1 = UserAccount('admin','example@mail.ru','1234')\n",
        "\n",
        "ch = int(input('1 - изменение пароля \\n2 - проверка введененного пароля на корректность \\n'))\n",
        "if ch == 1:\n",
        "  new_password = input('Новый пароль: ')\n",
        "  acc_1.set_password(new_password)\n",
        "  print(acc_1.get_password())\n",
        "elif ch == 2:\n",
        "  password = input('Введите пароль: ')\n",
        "  print(acc_1.check_password(password))\n"
      ]
    },
    {
      "cell_type": "code",
      "source": [
        "class Vehicle():\n",
        "\n",
        "  def __init__(self,make,model):\n",
        "    self.make = make\n",
        "    self.model = model\n",
        "\n",
        "  def get_info(self):\n",
        "    print(f'Марка: {self.make} \\nМодель: {self.model}')\n",
        "\n",
        "class Car(Vehicle):\n",
        "\n",
        "  def __init__(self,make,model,fuel_type):\n",
        "    super().__init__(make,model)\n",
        "    self.fuel_type = fuel_type\n",
        "\n",
        "  def get_info(self):\n",
        "    super().get_info()\n",
        "    print(f'{self.fuel_type}')\n",
        "\n",
        "VAZ_2109 = Car('ВАЗ','2109',92)\n",
        "jupiter = Vehicle('ИЖ','Юпитер')\n",
        "\n",
        "jupiter.get_info()\n",
        "VAZ_2109.get_info()\n"
      ],
      "metadata": {
        "id": "ALtPeLEbtrjJ",
        "colab": {
          "base_uri": "https://localhost:8080/"
        },
        "outputId": "0c36289c-0777-4773-de6d-7fd7782a6d9f"
      },
      "execution_count": 55,
      "outputs": [
        {
          "output_type": "stream",
          "name": "stdout",
          "text": [
            "Марка: ИЖ \n",
            "Модель: Юпитер\n",
            "Марка: ВАЗ \n",
            "Модель: 2109\n",
            "92\n"
          ]
        }
      ]
    }
  ]
}