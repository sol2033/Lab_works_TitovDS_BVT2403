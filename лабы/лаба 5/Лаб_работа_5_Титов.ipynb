{
  "nbformat": 4,
  "nbformat_minor": 0,
  "metadata": {
    "colab": {
      "provenance": []
    },
    "kernelspec": {
      "name": "python3",
      "display_name": "Python 3"
    },
    "language_info": {
      "name": "python"
    }
  },
  "cells": [
    {
      "cell_type": "code",
      "execution_count": null,
      "metadata": {
        "colab": {
          "base_uri": "https://localhost:8080/"
        },
        "id": "r-aRD5dcQWTf",
        "outputId": "67d57f0e-24a8-4522-b06f-9e4381a40c41"
      },
      "outputs": [
        {
          "output_type": "stream",
          "name": "stdout",
          "text": [
            "Название книги: Война и мир, Автор: Л.Н.Толстой, Год издания: 1868\n"
          ]
        }
      ],
      "source": [
        "#Титов Дмитрий Сергеевич, лаб. работа № 5, задание 1\n",
        "class Book():\n",
        "  def __init__(self,title,author,year):\n",
        "    self.title = title\n",
        "    self.author = author\n",
        "    self.year = year\n",
        "\n",
        "  def get_info(self):\n",
        "    print(f'Название книги: {self.title}, Автор: {self.author}, Год издания: {self.year}')\n",
        "\n",
        "book_1 = Book('Война и мир','Л.Н.Толстой','1868')\n",
        "\n",
        "book_1.get_info()\n"
      ]
    },
    {
      "cell_type": "code",
      "source": [
        "#Титов Дмитрий Сергеевич, лаб. работа № 5, задание 2\n",
        "class Circle():\n",
        "  def __init__(self,radius):\n",
        "    self.radius = radius\n",
        "\n",
        "  def get_radius(self):\n",
        "    return self.radius\n",
        "\n",
        "  def set_radius(self,new_radius):\n",
        "     self.radius = new_radius\n",
        "     return self.radius\n",
        "\n",
        "circle_1 = Circle(10)\n",
        "\n",
        "change_radius = int(input('Новый радиус: '))\n",
        "print(f'Изначальный радиус: {circle_1.get_radius()}')\n",
        "print(f'Новый радиус: {circle_1.set_radius(change_radius)}')\n"
      ],
      "metadata": {
        "colab": {
          "base_uri": "https://localhost:8080/"
        },
        "id": "kXeQaVjjWMy-",
        "outputId": "31947f52-fbf0-4ff4-9c62-a620871de9cd"
      },
      "execution_count": null,
      "outputs": [
        {
          "output_type": "stream",
          "name": "stdout",
          "text": [
            "Новый радиус: 24\n",
            "Изначальный радиус: 10\n",
            "Новый радиус: 24\n"
          ]
        }
      ]
    }
  ]
}