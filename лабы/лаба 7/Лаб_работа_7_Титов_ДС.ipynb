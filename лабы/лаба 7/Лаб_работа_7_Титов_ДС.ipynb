{
  "nbformat": 4,
  "nbformat_minor": 0,
  "metadata": {
    "colab": {
      "provenance": []
    },
    "kernelspec": {
      "name": "python3",
      "display_name": "Python 3"
    },
    "language_info": {
      "name": "python"
    }
  },
  "cells": [
    {
      "cell_type": "code",
      "source": [
        "class Employee():\n",
        "\n",
        "  def __init__(self,name,id):\n",
        "    self._name = name\n",
        "    self._id = id\n",
        "\n",
        "  def get_info(self):\n",
        "    print(f'Имя: {self._name}\\nID: {self._id} ')\n",
        "\n",
        "class Manager(Employee):\n",
        "\n",
        "  def __init__(self,name,id,department):\n",
        "    super().__init__(name,id)\n",
        "    self.department = department\n",
        "\n",
        "  def manage_project(self):\n",
        "    print(f'{self._name} управляет проектом')\n",
        "\n",
        "  def get_info(self):\n",
        "    super().get_info()\n",
        "    print(f'отдел: {self.department}')\n",
        "\n",
        "class Technician(Employee):\n",
        "\n",
        "  def __init__(self,name,id,department,specialisation,grade):\n",
        "    super().__init__(name,id)\n",
        "    self.department = department\n",
        "    self.specialisation = specialisation\n",
        "    self._grade = grade\n",
        "\n",
        "  def perform_maintance(self):\n",
        "    print(f'{self.specialisation} {self._name} разряда {self._grade} выполняет тех. обслуживание объекта')\n",
        "\n",
        "  def get_info(self):\n",
        "    super().get_info()\n",
        "    print(f'отдел: {self.department}\\nспециальность: {self.specialisation}\\nразряд: {self._grade} ')\n",
        "\n",
        "class TechManager(Technician,Manager):\n",
        "  def __init__(self,name,id,department,specialisation,grade):\n",
        "    self._name = name\n",
        "    self._id = id\n",
        "    self.department = department\n",
        "    self.specialisation = specialisation\n",
        "    self._grade = grade\n",
        "\n",
        "  def add_employee(self,emp_list):\n",
        "    return emp_list.append(input('Добавить сотрудника: '))\n",
        "\n",
        "  def get_team_info(self,emp_list):\n",
        "    for i in emp_list:\n",
        "      print(i)\n",
        "\n",
        "manager_1 = Manager('Vladimir','1234','IT')\n",
        "technician_1 = Technician('Sergey','4321','Marketing','engineer','2')\n",
        "techmanager_1 = TechManager('Bob','5431','IT','senior engineer','1')\n",
        "\n",
        "emp_list = ['Manager Vladimir','Technician Sergey','TechManager Bob']\n",
        "ch = int(input('1 - менеджер\\n2 - техник\\n3 - менеджер-техник\\n'))\n",
        "if ch == 1:\n",
        "  ch_m = int(input(' 1 - вывод информации о сотруднике\\n 2 - управление проектом\\n'))\n",
        "  if ch_m == 1:\n",
        "    manager_1.get_info()\n",
        "  elif ch_m == 2:\n",
        "    manager_1.manage_project()\n",
        "elif ch == 2:\n",
        "  ch_t = int(input(' 1 - вывод информации о сотруднике\\n 2 - проведение тех. обслуживания\\n'))\n",
        "  if ch_t == 1:\n",
        "    technician_1.get_info()\n",
        "  elif ch_t == 2:\n",
        "    technician_1.perform_maintance()\n",
        "elif ch == 3:\n",
        "  ch_tm = int(input(' 1 - вывод информации о сотруднике\\n 2 - проведение тех. обслуживания\\n 3 - управление проектом\\n 4 - добавить нового сотрудника и вывести список всех сотрудников\\n'))\n",
        "  if ch_tm == 1:\n",
        "    techmanager_1.get_info()\n",
        "  if ch_tm == 2:\n",
        "    techmanager_1.perform_maintance()\n",
        "  if ch_tm == 3:\n",
        "    techmanager_1.manage_project()\n",
        "  if ch_tm == 4:\n",
        "    techmanager_1.add_employee(emp_list)\n",
        "    techmanager_1.get_team_info(emp_list)"
      ],
      "metadata": {
        "colab": {
          "base_uri": "https://localhost:8080/"
        },
        "id": "P2_hzQS_5p-y",
        "outputId": "99c16753-17f9-4b25-a160-def58e948ab0"
      },
      "execution_count": 65,
      "outputs": [
        {
          "output_type": "stream",
          "name": "stdout",
          "text": [
            "1 - менеджер\n",
            "2 - техник\n",
            "3 - менеджер-техник\n",
            "3\n",
            " 1 - вывод информации о сотруднике\n",
            " 2 - проведение тех. обслуживания\n",
            " 3 - управление проектом\n",
            " 4 - добавить нового сотрудника и вывести список всех сотрудников\n",
            "4\n",
            "Добавить сотрудника: Driver Nikita\n",
            "Manager Vladimir\n",
            "Technician Sergey\n",
            "TechManager Bob\n",
            "Driver Nikita\n"
          ]
        }
      ]
    }
  ]
}