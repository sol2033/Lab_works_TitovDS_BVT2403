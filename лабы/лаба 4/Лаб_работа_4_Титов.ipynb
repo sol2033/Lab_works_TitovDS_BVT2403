{
  "nbformat": 4,
  "nbformat_minor": 0,
  "metadata": {
    "colab": {
      "provenance": []
    },
    "kernelspec": {
      "name": "python3",
      "display_name": "Python 3"
    },
    "language_info": {
      "name": "python"
    }
  },
  "cells": [
    {
      "cell_type": "code",
      "source": [
        "!git clone https://github.com/sol2033/uni_labs.git\n",
        "%cd /content/uni_labs"
      ],
      "metadata": {
        "colab": {
          "base_uri": "https://localhost:8080/"
        },
        "id": "7MunemCeIqcO",
        "outputId": "0b541398-a9b0-4826-8293-f79cf086e1e7"
      },
      "execution_count": 4,
      "outputs": [
        {
          "output_type": "stream",
          "name": "stdout",
          "text": [
            "Cloning into 'uni_labs'...\n",
            "remote: Enumerating objects: 14, done.\u001b[K\n",
            "remote: Counting objects: 100% (14/14), done.\u001b[K\n",
            "remote: Compressing objects: 100% (11/11), done.\u001b[K\n",
            "remote: Total 14 (delta 1), reused 6 (delta 0), pack-reused 0 (from 0)\u001b[K\n",
            "Receiving objects: 100% (14/14), done.\n",
            "Resolving deltas: 100% (1/1), done.\n",
            "/content/uni_labs\n",
            "['/content', '/env/python', '/usr/lib/python310.zip', '/usr/lib/python3.10', '/usr/lib/python3.10/lib-dynload', '', '/usr/local/lib/python3.10/dist-packages', '/usr/lib/python3/dist-packages', '/usr/local/lib/python3.10/dist-packages/IPython/extensions', '/usr/local/lib/python3.10/dist-packages/setuptools/_vendor', '/root/.ipython']\n"
          ]
        }
      ]
    },
    {
      "cell_type": "code",
      "execution_count": null,
      "metadata": {
        "colab": {
          "base_uri": "https://localhost:8080/"
        },
        "id": "e6nM4_pp2p2U",
        "outputId": "8ad9d9ab-1b66-4794-d991-c7ed1ad21daf"
      },
      "outputs": [
        {
          "output_type": "stream",
          "name": "stdout",
          "text": [
            "7\n",
            "2.6457513110645907\n",
            "2024-10-05 14:51:23.025069\n"
          ]
        }
      ],
      "source": [
        "#Титов Дмитрий Сергеевич. Лаб. работа 4, задание 1\n",
        "import math\n",
        "import datetime\n",
        "a = int(input())\n",
        "print(math.sqrt(a),datetime.datetime.now(),sep='\\n')\n"
      ]
    },
    {
      "cell_type": "code",
      "source": [
        "#Титов Дмитрий Сергеевич. Лаб. работа 4, задание 2\n",
        "import my_module\n",
        "a = int(input())\n",
        "b = int(input())\n",
        "print(my_module.summ(a,b))"
      ],
      "metadata": {
        "colab": {
          "base_uri": "https://localhost:8080/"
        },
        "id": "okW6AvZdB8r8",
        "outputId": "fbe2af1e-cfbe-4427-b673-9bf05b843b1b"
      },
      "execution_count": 5,
      "outputs": [
        {
          "output_type": "stream",
          "name": "stdout",
          "text": [
            "2\n",
            "4\n",
            "6\n"
          ]
        }
      ]
    },
    {
      "cell_type": "code",
      "source": [
        "#Титов Дмитрий Сергеевич. Лаб. работа 4, задание 2\n",
        "import package as pac\n",
        "choice = 'умножение'\n",
        "choice = int(input('1 - умножение чисел\\n2 - сложение строк\\n3 - определение простого числа\\n '))\n",
        "if choice == 1:\n",
        "  a = int(input())\n",
        "  b = int(input())\n",
        "  print(pac.multi.multi(a,b))\n",
        "elif choice == 2:\n",
        "  a = input()\n",
        "  b = input()\n",
        "  print(pac.stringsum.stringsum(a,b))\n",
        "elif choice == 3:\n",
        "  a = int(input())\n",
        "  print(pac.prime.prime(a))\n",
        "\n"
      ],
      "metadata": {
        "colab": {
          "base_uri": "https://localhost:8080/"
        },
        "id": "xu9g01c0UR_e",
        "outputId": "4545ae46-21c4-4656-897c-fd6d8e7ae994"
      },
      "execution_count": 9,
      "outputs": [
        {
          "output_type": "stream",
          "name": "stdout",
          "text": [
            "1 - умножение чисел\n",
            "2 - сложение строк\n",
            "3 - определение простого числа\n",
            " 3\n",
            "9\n",
            "Не простое\n"
          ]
        }
      ]
    }
  ]
}